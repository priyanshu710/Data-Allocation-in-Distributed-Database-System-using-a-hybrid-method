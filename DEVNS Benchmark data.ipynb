{
 "cells": [
  {
   "cell_type": "code",
   "execution_count": 1,
   "id": "236f8bc4",
   "metadata": {},
   "outputs": [],
   "source": [
    "from numpy.random import rand\n",
    "import numpy as np\n",
    "from numpy.random import choice\n",
    "from numpy import asarray\n",
    "from numpy import clip\n",
    "from numpy import argmin\n",
    "from numpy import min\n",
    "from numpy import around\n",
    "from matplotlib import pyplot\n",
    "import random\n",
    "from numpy.random import choice\n",
    "import copy"
   ]
  },
  {
   "cell_type": "code",
   "execution_count": 2,
   "id": "b422162d",
   "metadata": {},
   "outputs": [],
   "source": [
    "fragment_size = 10\n",
    "pop_size = 200\n",
    "m = 20 # number of fragments\n",
    "n = 20 # number of sites\n",
    "l = 20 # number of transactions\n",
    "RPT = 0.7 #Probability of transaction requested at a site\n",
    "APF = 0.4 #Probability of fragment accessed by transaction\n",
    "sol = np.random.randint(0,n,size=(pop_size,m))\n",
    "sol2 = copy.deepcopy(sol)\n",
    "site_capacity = m*fragment_size\n",
    "UCN = 0.7 # random number between 0 and 1\n",
    "uc = np.random.randint(UCN,UCN*n,size=(n,n))\n",
    "uc = (uc + uc.T)/2\n",
    "numberlist = [i for i in range(n)]\n",
    "weights = [RPT]*20\n",
    "x = random.choices(numberlist,weights = weights, k = n)\n",
    "freq = [[0]*l]*n\n",
    "for i in range(n):\n",
    "    for j in range(l):\n",
    "        freq[i][j] = random.randrange(1,1000)\n",
    "frequency = np.array(freq)    \n",
    "trfr = [[0]*m]*l\n",
    "for i in range(l):\n",
    "    for j in range(m):\n",
    "        trfr[i][j] = random.randrange(1,fragment_size)\n",
    "trfr = frequency @ trfr\n",
    "qfr = np.zeros(shape=(l,m,m))\n",
    "for i in range(l):\n",
    "    for j1 in range(m):\n",
    "        for j2 in range(m):\n",
    "            qfr[i,j1,j2] = random.randrange(1,fragment_size)\n",
    "frdep = np.zeros(shape=(m,m))\n",
    "for i in range(m):\n",
    "    for j in range(m):\n",
    "        frdep[i,j] = np.sum(qfr[:,i,j])"
   ]
  },
  {
   "cell_type": "code",
   "execution_count": 3,
   "id": "44fee62a",
   "metadata": {},
   "outputs": [],
   "source": [
    "def calculation(solution):\n",
    "    cost1 = 0 # partial cost\n",
    "    cost2 = 0 # direct cost\n",
    "    cost = 0\n",
    "    for j1 in range(m):\n",
    "        for j2 in range(m):\n",
    "            cost1 = cost1 + (frdep[j1,j2] + uc[solution[j1],solution[j2]])\n",
    "    for j in range(m):        \n",
    "        for q in range(n):   # partialco\n",
    "            r1 = 0\n",
    "            for k in range(l):\n",
    "                r1 = r1 + (frequency[solution[j],k] * trfr[k,j])\n",
    "                cost2 = cost2 + (uc[solution[j],q] * r1)\n",
    "    cost = cost1 + cost2\n",
    "    return cost\n",
    "    \n",
    "# def crossover(x,y,cr = 0.8):\n",
    "#     R = random.randrange(0,1)\n",
    "#     if R < cr:\n",
    "#         cutp1 = random.randrange(1,m)\n",
    "#         cutp2 = random.randrange(1,m)\n",
    "#         for i in range(cutp1):\n",
    "#             x[i],y[i] = y[i], x[i]\n",
    "#         for i in range(cutp2,m):\n",
    "#             x[i],y[i] = y[i], x[i]\n",
    "    \n",
    "#     return x,y\n",
    "\n",
    "def crossover(x,y,cr = 0.8):\n",
    "    x1 = copy.deepcopy(x)\n",
    "    y1= copy.deepcopy(y)\n",
    "    R = random.randrange(0,1)\n",
    "    if R < cr:\n",
    "        cutp1 = random.randrange(1,m)\n",
    "        cutp2 = random.randrange(1,m)\n",
    "        for i in range(cutp1):\n",
    "            x[i],y[i] = y[i], x[i]\n",
    "        for i in range(cutp2,m):\n",
    "            x[i],y[i] = y[i], x[i]\n",
    "    \n",
    "    if calculation(x) < calculation(x1):\n",
    "        p = x\n",
    "    else:\n",
    "        p = x1\n",
    "    if calculation(y) < calculation(y1):\n",
    "        q = y\n",
    "    else:\n",
    "        q = y1\n",
    "    return p,q\n",
    "\n",
    "\n",
    "def mutation(X,Y):\n",
    "    if calculation(X) < calculation(Y):\n",
    "            Z = X\n",
    "    elif calculation(Y) < calculation(X):\n",
    "        Z = Y\n",
    "    else:\n",
    "        rand = np.random.randint(0,2)\n",
    "        if rand == 0:\n",
    "            Z = X\n",
    "        else:\n",
    "            Z = Y\n",
    "    return Z\n",
    "\n",
    "def VNS(X):\n",
    "    # neighbour structure will be a matrix of dimension 1Xm. where m = no of fragments = 20\n",
    "    for k in range(10):\n",
    "        Y = X\n",
    "        for p in range(5):\n",
    "            for q in range(3): # changing 3 sites randomly\n",
    "                fragment = np.random.randint(0,20)\n",
    "                site = np.random.randint(0,n)\n",
    "                Z = Y\n",
    "                Z[fragment] = site\n",
    "            if calculation(Z) < calculation(Y):\n",
    "                Y = Z\n",
    "        if calculation(Y) < calculation(X):\n",
    "            X = Y\n",
    "    return X\n",
    "                \n",
    "        \n",
    "        "
   ]
  },
  {
   "cell_type": "code",
   "execution_count": 4,
   "id": "e07276df",
   "metadata": {},
   "outputs": [],
   "source": [
    "COST = [calculation(solution) for solution in sol]\n",
    "newcost = [(max(COST)-COST[i]) for i in range(pop_size)]\n",
    "for i in range(1): # number of iteration\n",
    "    for j in range(200): # for all solution in sol\n",
    "        candidates = [candidate for candidate in range(pop_size) if candidate != j]\n",
    "        R1, R2, R3 = sol[choice(candidates, 3, replace=False)]\n",
    "        A1,B1 = crossover(R2,R3)\n",
    "        C = mutation(A1,B1)\n",
    "        A2,B2 = crossover(R1,C)\n",
    "        C = mutation(A2,B2)\n",
    "        A3,B3 = crossover(sol[j],C)\n",
    "        C = mutation(A3,B3)\n",
    "        D = VNS(C)\n",
    "        if calculation(D) < calculation(sol[j]):\n",
    "            sol[j] = D\n",
    "        \n",
    "    \n",
    "        "
   ]
  },
  {
   "cell_type": "code",
   "execution_count": 5,
   "id": "41729636",
   "metadata": {},
   "outputs": [
    {
     "name": "stdout",
     "output_type": "stream",
     "text": [
      "final solution : [15 18  9 17  9  9 11  5  5  9  0 17 13  0 18  9  5 12 16  6]\n",
      "cost of solution :  14474054152469.0\n"
     ]
    }
   ],
   "source": [
    "final_cost = [calculation(i) for i in sol]\n",
    "print(\"final solution :\", sol[final_cost.index(min(final_cost))] )\n",
    "print(\"cost of solution : \",min(final_cost))"
   ]
  },
  {
   "cell_type": "code",
   "execution_count": 6,
   "id": "e6895785",
   "metadata": {},
   "outputs": [
    {
     "name": "stdout",
     "output_type": "stream",
     "text": [
      "minimum cost solution in initial population : [19 11 15 17  5 16  4 16 18 10  0 17 17  0 16 13 11  3 15 12]\n",
      "cost of solution 14518356830420.0\n"
     ]
    }
   ],
   "source": [
    "sol2 = np.array(sol2)\n",
    "initial_cost = [calculation(i) for i in sol2]\n",
    "print(\"minimum cost solution in initial population :\", sol2[initial_cost.index(min(initial_cost))])\n",
    "print(\"cost of solution\",min(initial_cost))"
   ]
  },
  {
   "cell_type": "code",
   "execution_count": 7,
   "id": "a8c60aa8",
   "metadata": {},
   "outputs": [
    {
     "name": "stdout",
     "output_type": "stream",
     "text": [
      "Difference =  44302677951.0\n"
     ]
    }
   ],
   "source": [
    "print(\"Difference = \",min(initial_cost - min(final_cost)))"
   ]
  }
 ],
 "metadata": {
  "kernelspec": {
   "display_name": "base",
   "language": "python",
   "name": "python3"
  },
  "language_info": {
   "codemirror_mode": {
    "name": "ipython",
    "version": 3
   },
   "file_extension": ".py",
   "mimetype": "text/x-python",
   "name": "python",
   "nbconvert_exporter": "python",
   "pygments_lexer": "ipython3",
   "version": "3.9.12"
  },
  "vscode": {
   "interpreter": {
    "hash": "ad2bdc8ecc057115af97d19610ffacc2b4e99fae6737bb82f5d7fb13d2f2c186"
   }
  }
 },
 "nbformat": 4,
 "nbformat_minor": 5
}
